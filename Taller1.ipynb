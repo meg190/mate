{
  "nbformat": 4,
  "nbformat_minor": 0,
  "metadata": {
    "colab": {
      "provenance": [],
      "authorship_tag": "ABX9TyM24mj/ShQnbiHB9vlM98v2",
      "include_colab_link": true
    },
    "kernelspec": {
      "name": "python3",
      "display_name": "Python 3"
    },
    "language_info": {
      "name": "python"
    }
  },
  "cells": [
    {
      "cell_type": "markdown",
      "metadata": {
        "id": "view-in-github",
        "colab_type": "text"
      },
      "source": [
        "<a href=\"https://colab.research.google.com/github/meg190/mate/blob/main/Taller1.ipynb\" target=\"_parent\"><img src=\"https://colab.research.google.com/assets/colab-badge.svg\" alt=\"Open In Colab\"/></a>"
      ]
    },
    {
      "cell_type": "code",
      "execution_count": null,
      "metadata": {
        "id": "xsJaNWojKE1r"
      },
      "outputs": [],
      "source": []
    },
    {
      "cell_type": "markdown",
      "source": [
        "1. Intesidad electrica\n",
        "\n",
        "$$I=\\frac{q}{t}$$\n",
        "\n",
        "* Despeje de t\n",
        "\n",
        "$$t=\\frac{q}{I}$$\n",
        "\n",
        "2. Ley de Ohm\n",
        "\n",
        "$$I=\\frac{V}{R}$$\n",
        "\n",
        "* Despeje de R\n",
        "\n",
        "$$R=\\frac{V}{I}$$\n",
        "\n",
        "3. Energia electrica\n",
        "\n",
        "$$E=\\frac{V^{2}}{R}\\cdot t$$\n",
        "\n",
        "*Despeje de t\n",
        "\n",
        "$$t=\\frac{E\\cdot R}{V^{2}}$$"
      ],
      "metadata": {
        "id": "vtdZ2-WQajb8"
      }
    },
    {
      "cell_type": "code",
      "source": [
        "45+(3*(2+8)-(8/4))+10-83"
      ],
      "metadata": {
        "id": "9y5jjzVZbzTx",
        "outputId": "e3cea8df-eebf-466b-cfd0-91415a172ae7",
        "colab": {
          "base_uri": "https://localhost:8080/"
        }
      },
      "execution_count": 14,
      "outputs": [
        {
          "output_type": "execute_result",
          "data": {
            "text/plain": [
              "0.0"
            ]
          },
          "metadata": {},
          "execution_count": 14
        }
      ]
    },
    {
      "cell_type": "markdown",
      "source": [
        "$\\frac{1}{5}[(\\frac{1}{2})^2+(\\frac{3}{4})^2]+\\frac{10}{25}[(\\frac{1}{2})^2+(\\frac{3}{4})^2]+\\frac{8}{40}[(\\frac{1}{2})^2+(\\frac{3}{4})^2]$"
      ],
      "metadata": {
        "id": "yNvzYkpkcTsK"
      }
    },
    {
      "cell_type": "code",
      "source": [
        "(1/5)*(((1/2)**2)+((3/4)**2))+(10/25)*(((1/2)**2)+((3/4)**2))+(8/40)*(((1/2)**2)+((3/4)**2))"
      ],
      "metadata": {
        "id": "huC3WKXQcm5g",
        "outputId": "92ee60bd-f932-4604-8a3e-89d69fc9dd1b",
        "colab": {
          "base_uri": "https://localhost:8080/"
        }
      },
      "execution_count": 15,
      "outputs": [
        {
          "output_type": "execute_result",
          "data": {
            "text/plain": [
              "0.65"
            ]
          },
          "metadata": {},
          "execution_count": 15
        }
      ]
    },
    {
      "cell_type": "code",
      "source": [
        "Nombre = str(input(\"Digame su nombre: \"))\n",
        "Altura = float(input(\"Digame su altura en METROS: \"))\n",
        "Peso = int(input(\"Digame su peso en KILOGRAMOS: \"))\n",
        "\n",
        "IMC = Peso/(Altura**2)\n",
        "\n",
        "print(\"Su IMC es de \",IMC,\" estimado \",Nombre)"
      ],
      "metadata": {
        "id": "_ypOKb1rdohx",
        "outputId": "ea76205d-ab1e-47bd-fb33-5fdb8f23e717",
        "colab": {
          "base_uri": "https://localhost:8080/"
        }
      },
      "execution_count": 21,
      "outputs": [
        {
          "output_type": "stream",
          "name": "stdout",
          "text": [
            "Digame su nombre: Nicholas\n",
            "Digame su altura en METROS: 1.76\n",
            "Digame su peso en KILOGRAMOS: 80\n",
            "Su IMC es de  25.826446280991735  estimado  Nicholas\n"
          ]
        }
      ]
    }
  ]
}