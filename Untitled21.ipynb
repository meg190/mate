{
  "nbformat": 4,
  "nbformat_minor": 0,
  "metadata": {
    "colab": {
      "provenance": [],
      "authorship_tag": "ABX9TyOuINrr/ZJWtdlHTE/DZpyQ",
      "include_colab_link": true
    },
    "kernelspec": {
      "name": "python3",
      "display_name": "Python 3"
    },
    "language_info": {
      "name": "python"
    }
  },
  "cells": [
    {
      "cell_type": "markdown",
      "metadata": {
        "id": "view-in-github",
        "colab_type": "text"
      },
      "source": [
        "<a href=\"https://colab.research.google.com/github/meg190/mate/blob/main/Untitled21.ipynb\" target=\"_parent\"><img src=\"https://colab.research.google.com/assets/colab-badge.svg\" alt=\"Open In Colab\"/></a>"
      ]
    },
    {
      "cell_type": "code",
      "execution_count": 3,
      "metadata": {
        "colab": {
          "base_uri": "https://localhost:8080/"
        },
        "id": "F13b5OO4hGu8",
        "outputId": "d5a7383c-8190-4f5e-e4e9-cc1f1c048a46"
      },
      "outputs": [
        {
          "output_type": "stream",
          "name": "stdout",
          "text": [
            "Valor de i:0\n",
            "Valor de i:1\n",
            "Valor de i:2\n",
            "Valor de i:3\n",
            "Valor de i:4\n"
          ]
        }
      ],
      "source": [
        "for i in range(5):\n",
        "  print(f\"Valor de i:{i}\")"
      ]
    },
    {
      "cell_type": "code",
      "source": [
        "frutas=[\"Manzana\",\"Mandarina\",\"Papaya\",\"Banano\"]\n",
        "for i in enumerate(frutas):\n",
        "  print(f\"{i}\")\n"
      ],
      "metadata": {
        "colab": {
          "base_uri": "https://localhost:8080/"
        },
        "id": "cvoWGctmhjLq",
        "outputId": "3bce27d6-9df4-4bc1-e238-3607f0be12bd"
      },
      "execution_count": 13,
      "outputs": [
        {
          "output_type": "stream",
          "name": "stdout",
          "text": [
            "(0, 'Manzana')\n",
            "(1, 'Mandarina')\n",
            "(2, 'Papaya')\n",
            "(3, 'Banano')\n"
          ]
        }
      ]
    },
    {
      "cell_type": "code",
      "source": [
        "for i in range(1,11):\n",
        "  print(f\"{i}\")"
      ],
      "metadata": {
        "colab": {
          "base_uri": "https://localhost:8080/"
        },
        "id": "1rh08Fguiv_T",
        "outputId": "239e491b-eb8f-4445-caa8-8e32b83c68b3"
      },
      "execution_count": 16,
      "outputs": [
        {
          "output_type": "stream",
          "name": "stdout",
          "text": [
            "1\n",
            "2\n",
            "3\n",
            "4\n",
            "5\n",
            "6\n",
            "7\n",
            "8\n",
            "9\n",
            "10\n"
          ]
        }
      ]
    },
    {
      "cell_type": "code",
      "source": [
        "contador =-2\n",
        "while contador < 5:\n",
        "  print(f\"{contador}\")\n",
        "  contador+=1 #se debe colocar porque o si no produce un bucle infinito\n",
        "\n",
        "else:\n",
        "    if contador > 5:\n",
        "        print(\"es mayor que 5\")\n",
        "\n",
        "\n"
      ],
      "metadata": {
        "colab": {
          "base_uri": "https://localhost:8080/"
        },
        "id": "6FhSZfsJi_zz",
        "outputId": "d14ab68b-9288-41e9-c8bb-4bfb9ec49cc5"
      },
      "execution_count": 16,
      "outputs": [
        {
          "output_type": "stream",
          "name": "stdout",
          "text": [
            "-2\n",
            "-1\n",
            "0\n",
            "1\n",
            "2\n",
            "3\n",
            "4\n"
          ]
        }
      ]
    },
    {
      "cell_type": "code",
      "source": [
        "for i in range(3):\n",
        "    if i % 2 == 0:\n",
        "        print(f\"{i} es par\")\n",
        "    else:\n",
        "        print(f\"{i} es impar\")"
      ],
      "metadata": {
        "colab": {
          "base_uri": "https://localhost:8080/"
        },
        "id": "67yijgyVlpEf",
        "outputId": "a03e0424-8e91-4e2b-e473-4b33208b2a80"
      },
      "execution_count": 19,
      "outputs": [
        {
          "output_type": "stream",
          "name": "stdout",
          "text": [
            "0 es par\n",
            "1 es impar\n",
            "2 es par\n"
          ]
        }
      ]
    },
    {
      "cell_type": "code",
      "source": [
        "persona = {\"nombre\": \"Carlos\", \"edad\": 25}\n",
        "print(persona[\"nombre\"])"
      ],
      "metadata": {
        "colab": {
          "base_uri": "https://localhost:8080/"
        },
        "id": "up-uuZ9CkXC3",
        "outputId": "ea07e9a9-d41a-4d74-b8e5-a27854490697"
      },
      "execution_count": 20,
      "outputs": [
        {
          "output_type": "stream",
          "name": "stdout",
          "text": [
            "Carlos\n"
          ]
        }
      ]
    },
    {
      "cell_type": "code",
      "source": [
        "frutas = [\"manzana\", \"banana\", \"cereza\"]\n",
        "print(frutas[0])"
      ],
      "metadata": {
        "colab": {
          "base_uri": "https://localhost:8080/"
        },
        "id": "8wJjiXc4mF-y",
        "outputId": "04cf9f53-724a-44c0-aa10-ab3c8a98792a"
      },
      "execution_count": 21,
      "outputs": [
        {
          "output_type": "stream",
          "name": "stdout",
          "text": [
            "manzana\n"
          ]
        }
      ]
    },
    {
      "cell_type": "code",
      "source": [
        "def saludar(nombre):\n",
        "    return f\"Hola, {nombre}!\"\n",
        "\n",
        "print(saludar(\"Ana\"))"
      ],
      "metadata": {
        "colab": {
          "base_uri": "https://localhost:8080/"
        },
        "id": "g4vVChWRm3Xt",
        "outputId": "266e23b1-e29b-49bc-919d-b0f5ee1b5a4c"
      },
      "execution_count": 22,
      "outputs": [
        {
          "output_type": "stream",
          "name": "stdout",
          "text": [
            "Hola, Ana!\n"
          ]
        }
      ]
    },
    {
      "cell_type": "code",
      "source": [
        "def despedir(nombre):\n",
        "  return f\"Adiós, {nombre}\"\n",
        "\n",
        "print(despedir(\"megan\"))"
      ],
      "metadata": {
        "colab": {
          "base_uri": "https://localhost:8080/"
        },
        "id": "AA4uLKAdm7Fy",
        "outputId": "f0d2757a-6260-4473-e648-0100d13bbb2e"
      },
      "execution_count": 25,
      "outputs": [
        {
          "output_type": "stream",
          "name": "stdout",
          "text": [
            "Adiós, megan\n"
          ]
        }
      ]
    },
    {
      "cell_type": "code",
      "source": [
        "def presentar(nombre, edad=18):\n",
        "    print(f\"Hola, soy {nombre} y tengo {edad} años.\")\n",
        "presentar(\"Carlos\")\n",
        "presentar(\"Carlos\",25)"
      ],
      "metadata": {
        "colab": {
          "base_uri": "https://localhost:8080/"
        },
        "id": "xz8oTRTinX0K",
        "outputId": "ed9a5282-a99a-497d-f9d6-9e4cde6d05ab"
      },
      "execution_count": 37,
      "outputs": [
        {
          "output_type": "stream",
          "name": "stdout",
          "text": [
            "Hola, soy Carlos y tengo 18 años.\n",
            "Hola, soy Carlos y tengo 25 años.\n"
          ]
        }
      ]
    },
    {
      "cell_type": "code",
      "source": [
        "def sumar_todo(*numeros): #*args permite pasar múltiples argumentos sin definir cuántos.\n",
        "    return sum(numeros)\n",
        "\n",
        "print(sumar_todo(1, 2, 3, 4))"
      ],
      "metadata": {
        "colab": {
          "base_uri": "https://localhost:8080/"
        },
        "id": "T4ZPaIyAsJ_L",
        "outputId": "9546050f-271d-40a0-fce8-b64b3700f9fb"
      },
      "execution_count": 38,
      "outputs": [
        {
          "output_type": "stream",
          "name": "stdout",
          "text": [
            "10\n"
          ]
        }
      ]
    },
    {
      "cell_type": "code",
      "source": [
        "def mostrar_info(**datos):  #**kwargs permite pasar múltiples argumentos con nombre.\n",
        "    for clave, valor in datos.items():\n",
        "        print(f\"{clave}: {valor}\")\n",
        "\n",
        "mostrar_info(nombre=\"Ana\", edad=25, ciudad=\"Madrid\")"
      ],
      "metadata": {
        "colab": {
          "base_uri": "https://localhost:8080/"
        },
        "id": "W2u6kSMArrkf",
        "outputId": "ff568418-28b9-4d96-81d8-9882e9281abe"
      },
      "execution_count": 39,
      "outputs": [
        {
          "output_type": "stream",
          "name": "stdout",
          "text": [
            "nombre: Ana\n",
            "edad: 25\n",
            "ciudad: Madrid\n"
          ]
        }
      ]
    },
    {
      "cell_type": "code",
      "source": [
        "def sucesion_aritmetica(a1, d, n):\n",
        "    return [a1 + (i * d) for i in range(n)]\n",
        "\n",
        "print(sucesion_aritmetica(2, 3, 5))"
      ],
      "metadata": {
        "colab": {
          "base_uri": "https://localhost:8080/"
        },
        "id": "O0M1MbiKuHrp",
        "outputId": "c2ef4c93-242b-4185-93af-12a3cad96ccf"
      },
      "execution_count": 40,
      "outputs": [
        {
          "output_type": "stream",
          "name": "stdout",
          "text": [
            "[2, 5, 8, 11, 14]\n"
          ]
        }
      ]
    },
    {
      "cell_type": "code",
      "source": [
        "import matplotlib.pyplot as plt\n",
        "\n",
        "def graficar_sucesion_aritmetica(a1, d, n):\n",
        "    sucesion = [a1 + (i * d) for i in range(n)]\n",
        "    plt.plot(range(n), sucesion, marker='o', linestyle='-')\n",
        "    plt.xlabel('n')\n",
        "    plt.ylabel('a_n')\n",
        "    plt.title('Sucesión Aritmética')\n",
        "    plt.grid()\n",
        "    plt.show()\n",
        "\n",
        "graficar_sucesion_aritmetica(2, 3, 10)"
      ],
      "metadata": {
        "colab": {
          "base_uri": "https://localhost:8080/",
          "height": 472
        },
        "id": "IaOEC0lJwMUG",
        "outputId": "5b1bb1a4-1f56-4be4-87d5-12eb4a1958bb"
      },
      "execution_count": 44,
      "outputs": [
        {
          "output_type": "display_data",
          "data": {
            "text/plain": [
              "<Figure size 640x480 with 1 Axes>"
            ],
            "image/png": "[encoded data removed]"
          },
          "metadata": {}
        }
      ]
    },
    {
      "cell_type": "code",
      "source": [
        "def sucesion_geometrica(a1, r, n):\n",
        "    return [a1 * (r ** i) for i in range(n)]\n",
        "\n",
        "print(sucesion_geometrica(2, 3, 5))"
      ],
      "metadata": {
        "colab": {
          "base_uri": "https://localhost:8080/"
        },
        "id": "nLxvvANKu_-d",
        "outputId": "25a79abd-6704-4145-a9a5-bc7bfe92044f"
      },
      "execution_count": 41,
      "outputs": [
        {
          "output_type": "stream",
          "name": "stdout",
          "text": [
            "[2, 6, 18, 54, 162]\n"
          ]
        }
      ]
    },
    {
      "cell_type": "code",
      "source": [
        "import matplotlib.pyplot as plt\n",
        "\n",
        "def graficar_sucesion_geometrica(a1, r, n):\n",
        "    sucesion = [a1 * (r ** i) for i in range(n)]\n",
        "    plt.plot(range(n), sucesion, marker='o', linestyle='-')\n",
        "    plt.xlabel('n')\n",
        "    plt.ylabel('a_n')\n",
        "    plt.title('Sucesión Geométrica')\n",
        "    plt.grid()\n",
        "    plt.show()\n",
        "\n",
        "graficar_sucesion_geometrica(2, 3, 10)"
      ],
      "metadata": {
        "colab": {
          "base_uri": "https://localhost:8080/",
          "height": 472
        },
        "id": "069_PD02wWQp",
        "outputId": "6e07bbb9-7266-4904-c7c3-5e7e5ed5c831"
      },
      "execution_count": 45,
      "outputs": [
        {
          "output_type": "display_data",
          "data": {
            "text/plain": [
              "<Figure size 640x480 with 1 Axes>"
            ],
            "image/png": "[encoded data removed]"
          },
          "metadata": {}
        }
      ]
    },
    {
      "cell_type": "code",
      "source": [
        "def fibonacci(n):\n",
        "    secuencia = [0, 1]\n",
        "    for i in range(2, n):\n",
        "        secuencia.append(secuencia[-1] + secuencia[-2])\n",
        "    return secuencia[:n]\n",
        "\n",
        "print(fibonacci(10))"
      ],
      "metadata": {
        "colab": {
          "base_uri": "https://localhost:8080/"
        },
        "id": "U_NL46EFvMEb",
        "outputId": "34064e64-c259-402a-fd03-ff06e39bc4c0"
      },
      "execution_count": 42,
      "outputs": [
        {
          "output_type": "stream",
          "name": "stdout",
          "text": [
            "[0, 1, 1, 2, 3, 5, 8, 13, 21, 34]\n"
          ]
        }
      ]
    },
    {
      "cell_type": "code",
      "source": [
        "import matplotlib.pyplot as plt\n",
        "\n",
        "def graficar_fibonacci(n):\n",
        "    secuencia = [0, 1]\n",
        "    for i in range(2, n):\n",
        "        secuencia.append(secuencia[-1] + secuencia[-2])\n",
        "\n",
        "    plt.plot(range(n), secuencia, marker='o', linestyle='-')\n",
        "    plt.xlabel('n')\n",
        "    plt.ylabel('F(n)')\n",
        "    plt.title('Sucesión de Fibonacci')\n",
        "    plt.grid()\n",
        "    plt.show()\n",
        "\n",
        "graficar_fibonacci(10)"
      ],
      "metadata": {
        "colab": {
          "base_uri": "https://localhost:8080/",
          "height": 472
        },
        "id": "lSDmuALxv_jB",
        "outputId": "72a49d8b-ab48-40d6-c2ac-b766c34f1da2"
      },
      "execution_count": 43,
      "outputs": [
        {
          "output_type": "display_data",
          "data": {
            "text/plain": [
              "<Figure size 640x480 with 1 Axes>"
            ],
            "image/png": "[encoded data removed]"
          },
          "metadata": {}
        }
      ]
    }
  ]
}